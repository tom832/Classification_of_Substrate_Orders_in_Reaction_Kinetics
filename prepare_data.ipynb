{
 "cells": [
  {
   "cell_type": "code",
   "execution_count": 1,
   "metadata": {},
   "outputs": [],
   "source": [
    "from tsfresh.feature_extraction.settings import ComprehensiveFCParameters\n",
    "from tsfresh import extract_features\n",
    "from tsfresh.feature_extraction.feature_calculators import set_property\n",
    "import pycatch22\n",
    "\n",
    "from sklearn.model_selection import train_test_split\n",
    "\n",
    "import pandas as pd\n",
    "from tqdm import tqdm\n",
    "import os\n",
    "import random\n",
    "import json\n"
   ]
  },
  {
   "cell_type": "markdown",
   "metadata": {},
   "source": [
    "## 0. some functions"
   ]
  },
  {
   "cell_type": "code",
   "execution_count": 2,
   "metadata": {},
   "outputs": [],
   "source": [
    "def collect_data(task_names, class_num, detailed_class2class):\n",
    "    \"\"\"\n",
    "    collect data from raw json data and save them into csv files\n",
    "    \"\"\"\n",
    "    data_root = os.path.join('data', 'ode_raw_data')\n",
    "    for task_name in tqdm(task_names):\n",
    "        task_data_root = os.path.join(data_root, task_name)\n",
    "        save_root = os.path.join('data', f'{str(class_num)}_class', 'raw')\n",
    "        if not os.path.exists(save_root):\n",
    "            os.makedirs(save_root)\n",
    "\n",
    "        class_name = detailed_class2class[task_name]\n",
    "        new_class_data_path = os.path.join(save_root, f'{class_name}__all.csv')\n",
    "        if os.path.exists(new_class_data_path):\n",
    "            df_new_class = pd.read_csv(new_class_data_path)\n",
    "        else:\n",
    "            df_new_class = pd.DataFrame()\n",
    "\n",
    "        data_column = ['id']\n",
    "        for i in range(30):\n",
    "            data_column += [f's{i}']\n",
    "        for i in range(30):\n",
    "            data_column += [f'p{i}']\n",
    "        data = pd.DataFrame(columns=data_column)\n",
    "\n",
    "        for file in os.listdir(task_data_root):\n",
    "            if file.endswith('.json'):\n",
    "                with open(os.path.join(task_data_root, file), 'r') as f:\n",
    "                    task_data = json.load(f)\n",
    "                \n",
    "                id = f'{class_name}-{task_name}-{file[:-5]}'\n",
    "                data.loc[data.shape[0]] = [id] + task_data['s'] + task_data['p']\n",
    "\n",
    "        data_noDup = data.drop_duplicates('id')\n",
    "        assert data_noDup.shape[0] == data.shape[0]\n",
    "        print(f'{task_name} has {data.shape[0]} samples')\n",
    "\n",
    "        df_new_class = pd.concat([df_new_class, data], ignore_index=True)\n",
    "        df_new_class.to_csv(new_class_data_path, index=False)\n",
    "\n",
    "\n",
    "# add error to data\n",
    "def add_error(data:pd.DataFrame, random_seed=42, ignore_cols=['id', 'class', 'label', 'old_class', 'cat_conc']):\n",
    "    \"\"\"\n",
    "    add 0%, 0.5%, 1% or 2% gaussian noise to data\n",
    "    \"\"\"\n",
    "    error_list = [0, 0.5, 1, 2]\n",
    "    data_ = data.copy()\n",
    "    for col in ignore_cols:\n",
    "        if col in data_.columns:\n",
    "            data_ = data_.drop(columns=[col])\n",
    "    random.seed(random_seed)\n",
    "    for i in range(len(data_)):\n",
    "        error = random.choice(error_list)\n",
    "        # print(error)\n",
    "        data_.loc[i] += [random.gauss(0, error / 100) for i in range(data_.shape[1])]\n",
    "    for col in ignore_cols:\n",
    "        if col in data.columns:\n",
    "            data_[col] = data[col]\n",
    "    # rearrange columns\n",
    "    cols = data.columns.tolist()\n",
    "    data_ = data_[cols]\n",
    "    return data_\n",
    "\n",
    "\n",
    "# add catch22 features into tsfresh\n",
    "@set_property(\"fctype\", \"combiner\")\n",
    "def catch22(x, param):\n",
    "    \"\"\"\n",
    "    pycatch22, a Python library that wraps the CATCH time series characteristics\n",
    "\n",
    "    Lubba et al. catch22: CAnonical Time-series CHaracteristics, Data Min Knowl Disc 33, 1821 (2019).\n",
    "\n",
    "    :param x: the time series to calculate the feature of\n",
    "    :type x: pandas.Series\n",
    "    :return: list of tuples (s, f) where s are the feature name in catch22, serialized as a string,\n",
    "             and f the respective feature value as bool, int or float\n",
    "    :return type: pandas.Series\n",
    "    \"\"\"\n",
    "    data = pycatch22.catch22_all(x)\n",
    "\n",
    "    return [(name, value) for name, value in zip(data['names'], data['values'])]\n",
    "\n",
    "settings = ComprehensiveFCParameters()\n",
    "settings[catch22] = None"
   ]
  },
  {
   "cell_type": "markdown",
   "metadata": {},
   "source": [
    "## 1. prepare data for 5 classes\n",
    "- collect data from ode raw data(json)\n",
    "- add gaussian noise to the data\n",
    "- split the data into train and test set\n",
    "- extract tsfresh features from the data and save them"
   ]
  },
  {
   "cell_type": "code",
   "execution_count": 3,
   "metadata": {},
   "outputs": [],
   "source": [
    "class_num = 5\n",
    "\n",
    "detailed_class_list = [\n",
    "    '1__single', \n",
    "    '1__double',\n",
    "    '0__single',\n",
    "    '0__double',\n",
    "    'mm__single',\n",
    "    # 'mm__single_outside',\n",
    "    'mm__double',\n",
    "]\n",
    "\n",
    "detailed_class_short_list = [\n",
    "    '1_sgl', \n",
    "    '1_dbl',\n",
    "    '0_sgl',\n",
    "    '0_dbl',\n",
    "    'mm_sgl',\n",
    "    'mm_dbl',\n",
    "]\n",
    "\n",
    "detailed_class2class = {\n",
    "    '1__single': 'first', \n",
    "    '1__double': 'second',\n",
    "    '0__single': 'zero',\n",
    "    '0__double': 'first',\n",
    "    'mm__single': 'mm_1',\n",
    "    'mm__double': 'mm_2',\n",
    "}\n",
    "\n",
    "class_list = [\n",
    "    'zero',\n",
    "    'first',\n",
    "    'second',\n",
    "    'mm_1',\n",
    "    # 'mm_1_out',\n",
    "    'mm_2',\n",
    "]"
   ]
  },
  {
   "cell_type": "code",
   "execution_count": 4,
   "metadata": {},
   "outputs": [
    {
     "name": "stderr",
     "output_type": "stream",
     "text": [
      " 17%|█▋        | 1/6 [00:15<01:19, 15.88s/it]"
     ]
    },
    {
     "name": "stdout",
     "output_type": "stream",
     "text": [
      "1__single has 11404 samples\n"
     ]
    },
    {
     "name": "stderr",
     "output_type": "stream",
     "text": [
      " 33%|███▎      | 2/6 [00:30<01:01, 15.27s/it]"
     ]
    },
    {
     "name": "stdout",
     "output_type": "stream",
     "text": [
      "1__double has 10710 samples\n"
     ]
    },
    {
     "name": "stderr",
     "output_type": "stream",
     "text": [
      " 50%|█████     | 3/6 [00:50<00:51, 17.26s/it]"
     ]
    },
    {
     "name": "stdout",
     "output_type": "stream",
     "text": [
      "0__single has 13671 samples\n",
      "0__double has 12214 samples\n"
     ]
    },
    {
     "name": "stderr",
     "output_type": "stream",
     "text": [
      " 83%|████████▎ | 5/6 [01:22<00:16, 16.39s/it]"
     ]
    },
    {
     "name": "stdout",
     "output_type": "stream",
     "text": [
      "mm__single has 10742 samples\n"
     ]
    },
    {
     "name": "stderr",
     "output_type": "stream",
     "text": [
      "100%|██████████| 6/6 [01:37<00:00, 16.20s/it]"
     ]
    },
    {
     "name": "stdout",
     "output_type": "stream",
     "text": [
      "mm__double has 10728 samples\n"
     ]
    },
    {
     "name": "stderr",
     "output_type": "stream",
     "text": [
      "\n"
     ]
    }
   ],
   "source": [
    "collect_data(\n",
    "    task_names=detailed_class_list, \n",
    "    class_num=class_num,\n",
    "    detailed_class2class=detailed_class2class\n",
    ")"
   ]
  },
  {
   "cell_type": "code",
   "execution_count": 5,
   "metadata": {},
   "outputs": [
    {
     "name": "stderr",
     "output_type": "stream",
     "text": [
      " 20%|██        | 1/5 [00:00<00:00,  5.21it/s]"
     ]
    },
    {
     "name": "stdout",
     "output_type": "stream",
     "text": [
      "0__single\n",
      "zero\n",
      "(10000, 62)\n",
      "(10000, 62)\n"
     ]
    },
    {
     "name": "stderr",
     "output_type": "stream",
     "text": [
      " 40%|████      | 2/5 [00:00<00:00,  4.89it/s]"
     ]
    },
    {
     "name": "stdout",
     "output_type": "stream",
     "text": [
      "1__single\n",
      "0__double\n",
      "first\n",
      "(10000, 62)\n",
      "(10000, 62)\n",
      "1__double\n",
      "second\n",
      "(10000, 62)\n",
      "(10000, 62)\n"
     ]
    },
    {
     "name": "stderr",
     "output_type": "stream",
     "text": [
      " 80%|████████  | 4/5 [00:00<00:00,  5.28it/s]"
     ]
    },
    {
     "name": "stdout",
     "output_type": "stream",
     "text": [
      "mm__single\n",
      "mm_1\n",
      "(10000, 62)\n",
      "(10000, 62)\n",
      "mm__double\n",
      "mm_2\n",
      "(10000, 62)\n",
      "(10000, 62)\n"
     ]
    },
    {
     "name": "stderr",
     "output_type": "stream",
     "text": [
      "100%|██████████| 5/5 [00:00<00:00,  5.21it/s]\n"
     ]
    }
   ],
   "source": [
    "\n",
    "data_size_for_tasks = {\n",
    "    # zero\n",
    "    '0__single': 10000,\n",
    "\n",
    "    # mm_1\n",
    "    'mm__single': 10000,\n",
    "\n",
    "    # mm_1_out\n",
    "    # 'mm__single_outside': 10000,\n",
    "\n",
    "    # first\n",
    "    '1__single': 5000, \n",
    "    '0__double': 5000,\n",
    "\n",
    "    # mm_2\n",
    "    'mm__double': 10000,\n",
    "    \n",
    "    # second\n",
    "    '1__double': 10000,\n",
    "}\n",
    "random_seed = 29\n",
    "for class_name in tqdm(class_list):\n",
    "    data_path = os.path.join('data', f'{str(class_num)}_class', 'raw', f'{class_name}__all.csv')\n",
    "    data = pd.read_csv(data_path)\n",
    "    data['old_class'] = data['id'].apply(lambda x: x.split('-')[1])\n",
    "    sampled_data = pd.DataFrame()\n",
    "    for old_class in data['old_class'].unique().tolist():\n",
    "        print(old_class)\n",
    "        data_ = data[data['old_class'] == old_class].sample(n=data_size_for_tasks[old_class], random_state=random_seed)\n",
    "        sampled_data = pd.concat([sampled_data, data_], ignore_index=True)\n",
    "    print(class_name)\n",
    "    print(sampled_data.shape)\n",
    "    print(sampled_data.drop_duplicates('id').shape)\n",
    "    sampled_data.to_csv(os.path.join('data', f'{str(class_num)}_class', 'raw', f'{class_name}__10k.csv'), index=False)"
   ]
  },
  {
   "cell_type": "code",
   "execution_count": 6,
   "metadata": {},
   "outputs": [
    {
     "name": "stderr",
     "output_type": "stream",
     "text": [
      "100%|██████████| 5/5 [00:00<00:00, 28.78it/s]\n"
     ]
    },
    {
     "name": "stdout",
     "output_type": "stream",
     "text": [
      "first: (10000, 63)\n",
      "second: (10000, 63)\n",
      "zero: (10000, 63)\n",
      "mm_1: (10000, 63)\n",
      "mm_2: (10000, 63)\n"
     ]
    }
   ],
   "source": [
    "# concat data, add error and split train_val test\n",
    "data_root = os.path.join(f'data', f'{str(class_num)}_class', 'raw')\n",
    "data = pd.DataFrame()\n",
    "for task_name in tqdm(class_list):\n",
    "    data_path = os.path.join(data_root, f'{task_name}__10k.csv')\n",
    "    data_tmp = pd.read_csv(data_path)\n",
    "    data_tmp['class'] = task_name\n",
    "    data = pd.concat([data, data_tmp], axis=0, ignore_index=True)\n",
    "data = add_error(data)\n",
    "print('first:', data[data['class'] == 'first'].shape)\n",
    "print('second:', data[data['class'] == 'second'].shape)\n",
    "print('zero:', data[data['class'] == 'zero'].shape)\n",
    "print('mm_1:', data[data['class'] == 'mm_1'].shape)\n",
    "# print('mm_1_out:', data[data['class'] == 'mm_1_out'].shape)\n",
    "print('mm_2:', data[data['class'] == 'mm_2'].shape)\n",
    "\n",
    "train_val_data, test_data = train_test_split(data, test_size=0.1, random_state=random_seed, stratify=data['class'])\n",
    "train_val_data.to_csv(os.path.join('data', f'{str(class_num)}_class', 'train_val.csv'), index=False)\n",
    "test_data.to_csv(os.path.join('data', f'{str(class_num)}_class', 'test.csv'), index=False)"
   ]
  },
  {
   "cell_type": "code",
   "execution_count": 7,
   "metadata": {},
   "outputs": [
    {
     "name": "stderr",
     "output_type": "stream",
     "text": [
      "train_val: 100%|██████████| 45000/45000 [00:08<00:00, 5085.03it/s]\n",
      "Feature Extraction: 100%|██████████| 60/60 [02:55<00:00,  2.93s/it]\n",
      "test: 100%|██████████| 5000/5000 [00:00<00:00, 5056.44it/s]\n",
      "Feature Extraction: 100%|██████████| 60/60 [00:19<00:00,  3.14it/s]\n"
     ]
    }
   ],
   "source": [
    "data_root = os.path.join('data', f'{str(class_num)}_class')\n",
    "for set_ in ['train_val', 'test']:\n",
    "    data_path = os.path.join(data_root, f'{set_}.csv')\n",
    "    data = pd.read_csv(data_path)\n",
    "    data.drop(columns=['old_class'], inplace=True)\n",
    "    \n",
    "    # fit dataset format for tsfresh\n",
    "    data_tsfresh = pd.DataFrame(columns=['id', 't', 's', 'p'])\n",
    "    data_tsfresh_ids = []\n",
    "    data_tsfresh_ts = []\n",
    "    data_tsfresh_ss = []\n",
    "    data_tsfresh_ps = []\n",
    "    for i in tqdm(range(data.shape[0]), desc=set_):\n",
    "        id = data.loc[i, 'id']\n",
    "        for j in range(30):\n",
    "            data_tsfresh_ss.append(data.loc[i, f's{j}'])\n",
    "            data_tsfresh_ps.append(data.loc[i, f'p{j}'])\n",
    "        data_tsfresh_ids += [id] * 30\n",
    "        data_tsfresh_ts += list(range(30))\n",
    "    data_tsfresh['id'] = data_tsfresh_ids\n",
    "    data_tsfresh['t'] = data_tsfresh_ts\n",
    "    data_tsfresh['s'] = data_tsfresh_ss\n",
    "    data_tsfresh['p'] = data_tsfresh_ps\n",
    "\n",
    "    # extract tsfresh features\n",
    "    data_feat = extract_features(data_tsfresh, column_id='id', column_sort='t', default_fc_parameters=settings)\n",
    "    data_feat['id'] = data_feat.index\n",
    "    data_feat['class'] = data_feat['id'].apply(lambda x: x.split('-')[0])\n",
    "    data_feat.to_csv(os.path.join(data_root, f'{set_}_tsfresh_feat.csv'), index=False)"
   ]
  },
  {
   "cell_type": "markdown",
   "metadata": {},
   "source": [
    "## 2. prepare data for 6 classes\n",
    "- collect data from ode raw data(json)\n",
    "- add gaussian noise to the data\n",
    "- split the data into train and test set\n",
    "- extract tsfresh features from the data and save them"
   ]
  },
  {
   "cell_type": "code",
   "execution_count": 8,
   "metadata": {},
   "outputs": [],
   "source": [
    "class_num = 6\n",
    "\n",
    "detailed_class_list = [\n",
    "    '1__single', \n",
    "    '1__double',\n",
    "    '0__single',\n",
    "    '0__double',\n",
    "    'mm__single',\n",
    "    'mm__single_outside',\n",
    "    'mm__double',\n",
    "]\n",
    "\n",
    "detailed_class_short_list = [\n",
    "    '1_sgl', \n",
    "    '1_dbl',\n",
    "    '0_sgl',\n",
    "    '0_dbl',\n",
    "    'mm_sgl',\n",
    "    'mm_sgl_out',\n",
    "    'mm_dbl',\n",
    "]\n",
    "\n",
    "detailed_class2class = {\n",
    "    '1__single': 'first', \n",
    "    '1__double': 'second',\n",
    "    '0__single': 'zero',\n",
    "    '0__double': 'first',\n",
    "    'mm__single': 'mm_1',\n",
    "    'mm__single_outside': 'mm_1_out',\n",
    "    'mm__double': 'mm_2',\n",
    "}\n",
    "\n",
    "class_list = [\n",
    "    'zero',\n",
    "    'first',\n",
    "    'second',\n",
    "    'mm_1',\n",
    "    'mm_1_out',\n",
    "    'mm_2',\n",
    "]"
   ]
  },
  {
   "cell_type": "code",
   "execution_count": 9,
   "metadata": {},
   "outputs": [
    {
     "name": "stderr",
     "output_type": "stream",
     "text": [
      " 14%|█▍        | 1/7 [00:15<01:35, 15.88s/it]"
     ]
    },
    {
     "name": "stdout",
     "output_type": "stream",
     "text": [
      "1__single has 11404 samples\n"
     ]
    },
    {
     "name": "stderr",
     "output_type": "stream",
     "text": [
      " 29%|██▊       | 2/7 [00:30<01:16, 15.24s/it]"
     ]
    },
    {
     "name": "stdout",
     "output_type": "stream",
     "text": [
      "1__double has 10710 samples\n"
     ]
    },
    {
     "name": "stderr",
     "output_type": "stream",
     "text": [
      " 43%|████▎     | 3/7 [00:50<01:08, 17.22s/it]"
     ]
    },
    {
     "name": "stdout",
     "output_type": "stream",
     "text": [
      "0__single has 13671 samples\n",
      "0__double has 12214 samples\n"
     ]
    },
    {
     "name": "stderr",
     "output_type": "stream",
     "text": [
      " 71%|███████▏  | 5/7 [01:22<00:32, 16.42s/it]"
     ]
    },
    {
     "name": "stdout",
     "output_type": "stream",
     "text": [
      "mm__single has 10742 samples\n",
      "mm__single_outside has 19319 samples\n"
     ]
    },
    {
     "name": "stderr",
     "output_type": "stream",
     "text": [
      "100%|██████████| 7/7 [02:09<00:00, 18.44s/it]"
     ]
    },
    {
     "name": "stdout",
     "output_type": "stream",
     "text": [
      "mm__double has 10728 samples\n"
     ]
    },
    {
     "name": "stderr",
     "output_type": "stream",
     "text": [
      "\n"
     ]
    }
   ],
   "source": [
    "collect_data(\n",
    "    task_names=detailed_class_list, \n",
    "    class_num=class_num,\n",
    "    detailed_class2class=detailed_class2class\n",
    ")"
   ]
  },
  {
   "cell_type": "code",
   "execution_count": 10,
   "metadata": {},
   "outputs": [
    {
     "name": "stderr",
     "output_type": "stream",
     "text": [
      "  0%|          | 0/6 [00:00<?, ?it/s]"
     ]
    },
    {
     "name": "stdout",
     "output_type": "stream",
     "text": [
      "0__single\n",
      "zero\n",
      "(10000, 62)\n"
     ]
    },
    {
     "name": "stderr",
     "output_type": "stream",
     "text": [
      " 17%|█▋        | 1/6 [00:00<00:00,  5.35it/s]"
     ]
    },
    {
     "name": "stdout",
     "output_type": "stream",
     "text": [
      "(10000, 62)\n"
     ]
    },
    {
     "name": "stderr",
     "output_type": "stream",
     "text": [
      " 33%|███▎      | 2/6 [00:00<00:00,  4.79it/s]"
     ]
    },
    {
     "name": "stdout",
     "output_type": "stream",
     "text": [
      "1__single\n",
      "0__double\n",
      "first\n",
      "(10000, 62)\n",
      "(10000, 62)\n",
      "1__double\n",
      "second\n",
      "(10000, 62)\n",
      "(10000, 62)\n"
     ]
    },
    {
     "name": "stderr",
     "output_type": "stream",
     "text": [
      " 67%|██████▋   | 4/6 [00:00<00:00,  5.14it/s]"
     ]
    },
    {
     "name": "stdout",
     "output_type": "stream",
     "text": [
      "mm__single\n",
      "mm_1\n",
      "(10000, 62)\n",
      "(10000, 62)\n"
     ]
    },
    {
     "name": "stderr",
     "output_type": "stream",
     "text": [
      " 83%|████████▎ | 5/6 [00:01<00:00,  4.97it/s]"
     ]
    },
    {
     "name": "stdout",
     "output_type": "stream",
     "text": [
      "mm__single_outside\n",
      "mm_1_out\n",
      "(10000, 62)\n",
      "(10000, 62)\n",
      "mm__double\n",
      "mm_2\n",
      "(10000, 62)\n",
      "(10000, 62)\n"
     ]
    },
    {
     "name": "stderr",
     "output_type": "stream",
     "text": [
      "100%|██████████| 6/6 [00:01<00:00,  5.07it/s]\n"
     ]
    }
   ],
   "source": [
    "data_size_for_tasks = {\n",
    "    # zero\n",
    "    '0__single': 10000,\n",
    "\n",
    "    # mm_1\n",
    "    'mm__single': 10000,\n",
    "\n",
    "    # mm_1_out\n",
    "    'mm__single_outside': 10000,\n",
    "\n",
    "    # first \n",
    "    '1__single': 5000,\n",
    "    '0__double': 5000,\n",
    "\n",
    "    # mm_2\n",
    "    'mm__double': 10000,\n",
    "    \n",
    "    # second\n",
    "    '1__double': 10000,\n",
    "}\n",
    "random_seed = 29\n",
    "for class_name in tqdm(class_list):\n",
    "    data_path = os.path.join('data', f'{str(class_num)}_class', 'raw', f'{class_name}__all.csv')\n",
    "    data = pd.read_csv(data_path)\n",
    "    data['old_class'] = data['id'].apply(lambda x: x.split('-')[1])\n",
    "    sampled_data = pd.DataFrame()\n",
    "    for old_class in data['old_class'].unique().tolist():\n",
    "        print(old_class)\n",
    "        data_ = data[data['old_class'] == old_class].sample(n=data_size_for_tasks[old_class], random_state=random_seed)\n",
    "        sampled_data = pd.concat([sampled_data, data_], ignore_index=True)\n",
    "    print(class_name)\n",
    "    print(sampled_data.shape)\n",
    "    print(sampled_data.drop_duplicates('id').shape)\n",
    "    sampled_data.to_csv(os.path.join('data', f'{str(class_num)}_class', 'raw', f'{class_name}__10k.csv'), index=False)"
   ]
  },
  {
   "cell_type": "code",
   "execution_count": 11,
   "metadata": {},
   "outputs": [
    {
     "name": "stderr",
     "output_type": "stream",
     "text": [
      "100%|██████████| 6/6 [00:00<00:00, 40.58it/s]\n"
     ]
    },
    {
     "name": "stdout",
     "output_type": "stream",
     "text": [
      "first: (10000, 63)\n",
      "second: (10000, 63)\n",
      "zero: (10000, 63)\n",
      "mm_1: (10000, 63)\n",
      "mm_1_out: (10000, 63)\n",
      "mm_2: (10000, 63)\n"
     ]
    }
   ],
   "source": [
    "# concat data, add error and split train_val test\n",
    "data_root = os.path.join(f'data', f'{str(class_num)}_class', 'raw')\n",
    "data = pd.DataFrame()\n",
    "for task_name in tqdm(class_list):\n",
    "    data_path = os.path.join(data_root, f'{task_name}__10k.csv')\n",
    "    data_tmp = pd.read_csv(data_path)\n",
    "    data_tmp['class'] = task_name\n",
    "    data = pd.concat([data, data_tmp], axis=0, ignore_index=True)\n",
    "data = add_error(data)\n",
    "print('first:', data[data['class'] == 'first'].shape)\n",
    "print('second:', data[data['class'] == 'second'].shape)\n",
    "print('zero:', data[data['class'] == 'zero'].shape)\n",
    "print('mm_1:', data[data['class'] == 'mm_1'].shape)\n",
    "print('mm_1_out:', data[data['class'] == 'mm_1_out'].shape)\n",
    "print('mm_2:', data[data['class'] == 'mm_2'].shape)\n",
    "\n",
    "train_val_data, test_data = train_test_split(data, test_size=0.1, random_state=random_seed, stratify=data['class'])\n",
    "train_val_data.to_csv(os.path.join('data', f'{str(class_num)}_class', 'train_val.csv'), index=False)\n",
    "test_data.to_csv(os.path.join('data', f'{str(class_num)}_class', 'test.csv'), index=False)"
   ]
  },
  {
   "cell_type": "code",
   "execution_count": 12,
   "metadata": {},
   "outputs": [
    {
     "name": "stderr",
     "output_type": "stream",
     "text": [
      "train_val: 100%|██████████| 54000/54000 [00:10<00:00, 5223.38it/s]\n",
      "Feature Extraction: 100%|██████████| 60/60 [03:36<00:00,  3.61s/it]\n",
      "test: 100%|██████████| 6000/6000 [00:01<00:00, 5132.32it/s]\n",
      "Feature Extraction: 100%|██████████| 60/60 [00:23<00:00,  2.55it/s]\n"
     ]
    }
   ],
   "source": [
    "data_root = os.path.join('data', f'{str(class_num)}_class')\n",
    "for set_ in ['train_val', 'test']:\n",
    "    data_path = os.path.join(data_root, f'{set_}.csv')\n",
    "    data = pd.read_csv(data_path)\n",
    "    data.drop(columns=['old_class'], inplace=True)\n",
    "    \n",
    "    # fit dataset format for tsfresh\n",
    "    data_tsfresh = pd.DataFrame(columns=['id', 't', 's', 'p'])\n",
    "    data_tsfresh_ids = []\n",
    "    data_tsfresh_ts = []\n",
    "    data_tsfresh_ss = []\n",
    "    data_tsfresh_ps = []\n",
    "    for i in tqdm(range(data.shape[0]), desc=set_):\n",
    "        id = data.loc[i, 'id']\n",
    "        for j in range(30):\n",
    "            data_tsfresh_ss.append(data.loc[i, f's{j}'])\n",
    "            data_tsfresh_ps.append(data.loc[i, f'p{j}'])\n",
    "        data_tsfresh_ids += [id] * 30\n",
    "        data_tsfresh_ts += list(range(30))\n",
    "    data_tsfresh['id'] = data_tsfresh_ids\n",
    "    data_tsfresh['t'] = data_tsfresh_ts\n",
    "    data_tsfresh['s'] = data_tsfresh_ss\n",
    "    data_tsfresh['p'] = data_tsfresh_ps\n",
    "\n",
    "    # extract tsfresh features\n",
    "    data_feat = extract_features(data_tsfresh, column_id='id', column_sort='t', default_fc_parameters=settings)\n",
    "    data_feat['id'] = data_feat.index\n",
    "    data_feat['class'] = data_feat['id'].apply(lambda x: x.split('-')[0])\n",
    "    data_feat.to_csv(os.path.join(data_root, f'{set_}_tsfresh_feat.csv'), index=False)"
   ]
  },
  {
   "cell_type": "markdown",
   "metadata": {},
   "source": [
    "## 3. Compare the data similarity between test and train set (Figure S2)"
   ]
  },
  {
   "cell_type": "code",
   "execution_count": 13,
   "metadata": {},
   "outputs": [
    {
     "name": "stderr",
     "output_type": "stream",
     "text": [
      "Computing distances: 100%|██████████| 6000/6000 [00:28<00:00, 209.18it/s]\n"
     ]
    },
    {
     "data": {
      "text/html": [
       "<div>\n",
       "<style scoped>\n",
       "    .dataframe tbody tr th:only-of-type {\n",
       "        vertical-align: middle;\n",
       "    }\n",
       "\n",
       "    .dataframe tbody tr th {\n",
       "        vertical-align: top;\n",
       "    }\n",
       "\n",
       "    .dataframe thead th {\n",
       "        text-align: right;\n",
       "    }\n",
       "</style>\n",
       "<table border=\"1\" class=\"dataframe\">\n",
       "  <thead>\n",
       "    <tr style=\"text-align: right;\">\n",
       "      <th></th>\n",
       "      <th>first</th>\n",
       "      <th>second</th>\n",
       "      <th>mm_2</th>\n",
       "      <th>zero</th>\n",
       "      <th>mm_1_out</th>\n",
       "      <th>mm_1</th>\n",
       "    </tr>\n",
       "  </thead>\n",
       "  <tbody>\n",
       "    <tr>\n",
       "      <th>0</th>\n",
       "      <td>0.142983</td>\n",
       "      <td>0.000161</td>\n",
       "      <td>0.070781</td>\n",
       "      <td>0.076784</td>\n",
       "      <td>0.054519</td>\n",
       "      <td>0.161301</td>\n",
       "    </tr>\n",
       "    <tr>\n",
       "      <th>1</th>\n",
       "      <td>0.076034</td>\n",
       "      <td>0.001618</td>\n",
       "      <td>0.010924</td>\n",
       "      <td>0.037785</td>\n",
       "      <td>0.095871</td>\n",
       "      <td>0.142372</td>\n",
       "    </tr>\n",
       "    <tr>\n",
       "      <th>2</th>\n",
       "      <td>0.160399</td>\n",
       "      <td>0.001304</td>\n",
       "      <td>0.039494</td>\n",
       "      <td>0.173848</td>\n",
       "      <td>0.140834</td>\n",
       "      <td>0.039895</td>\n",
       "    </tr>\n",
       "    <tr>\n",
       "      <th>3</th>\n",
       "      <td>0.002737</td>\n",
       "      <td>0.147683</td>\n",
       "      <td>0.038978</td>\n",
       "      <td>0.041844</td>\n",
       "      <td>0.081732</td>\n",
       "      <td>0.070160</td>\n",
       "    </tr>\n",
       "    <tr>\n",
       "      <th>4</th>\n",
       "      <td>0.075791</td>\n",
       "      <td>0.034662</td>\n",
       "      <td>0.002074</td>\n",
       "      <td>0.153842</td>\n",
       "      <td>0.158636</td>\n",
       "      <td>0.004316</td>\n",
       "    </tr>\n",
       "    <tr>\n",
       "      <th>...</th>\n",
       "      <td>...</td>\n",
       "      <td>...</td>\n",
       "      <td>...</td>\n",
       "      <td>...</td>\n",
       "      <td>...</td>\n",
       "      <td>...</td>\n",
       "    </tr>\n",
       "    <tr>\n",
       "      <th>995</th>\n",
       "      <td>0.148406</td>\n",
       "      <td>0.123369</td>\n",
       "      <td>0.006973</td>\n",
       "      <td>0.081385</td>\n",
       "      <td>0.086690</td>\n",
       "      <td>0.011816</td>\n",
       "    </tr>\n",
       "    <tr>\n",
       "      <th>996</th>\n",
       "      <td>0.149335</td>\n",
       "      <td>0.122225</td>\n",
       "      <td>0.039434</td>\n",
       "      <td>0.140548</td>\n",
       "      <td>0.169412</td>\n",
       "      <td>0.071722</td>\n",
       "    </tr>\n",
       "    <tr>\n",
       "      <th>997</th>\n",
       "      <td>0.000691</td>\n",
       "      <td>0.173530</td>\n",
       "      <td>0.034345</td>\n",
       "      <td>0.148396</td>\n",
       "      <td>0.076039</td>\n",
       "      <td>0.009362</td>\n",
       "    </tr>\n",
       "    <tr>\n",
       "      <th>998</th>\n",
       "      <td>0.124522</td>\n",
       "      <td>0.146343</td>\n",
       "      <td>0.076528</td>\n",
       "      <td>0.036190</td>\n",
       "      <td>0.092578</td>\n",
       "      <td>0.002039</td>\n",
       "    </tr>\n",
       "    <tr>\n",
       "      <th>999</th>\n",
       "      <td>0.139446</td>\n",
       "      <td>0.039788</td>\n",
       "      <td>0.037261</td>\n",
       "      <td>0.157671</td>\n",
       "      <td>0.076146</td>\n",
       "      <td>0.144916</td>\n",
       "    </tr>\n",
       "  </tbody>\n",
       "</table>\n",
       "<p>1000 rows × 6 columns</p>\n",
       "</div>"
      ],
      "text/plain": [
       "        first    second      mm_2      zero  mm_1_out      mm_1\n",
       "0    0.142983  0.000161  0.070781  0.076784  0.054519  0.161301\n",
       "1    0.076034  0.001618  0.010924  0.037785  0.095871  0.142372\n",
       "2    0.160399  0.001304  0.039494  0.173848  0.140834  0.039895\n",
       "3    0.002737  0.147683  0.038978  0.041844  0.081732  0.070160\n",
       "4    0.075791  0.034662  0.002074  0.153842  0.158636  0.004316\n",
       "..        ...       ...       ...       ...       ...       ...\n",
       "995  0.148406  0.123369  0.006973  0.081385  0.086690  0.011816\n",
       "996  0.149335  0.122225  0.039434  0.140548  0.169412  0.071722\n",
       "997  0.000691  0.173530  0.034345  0.148396  0.076039  0.009362\n",
       "998  0.124522  0.146343  0.076528  0.036190  0.092578  0.002039\n",
       "999  0.139446  0.039788  0.037261  0.157671  0.076146  0.144916\n",
       "\n",
       "[1000 rows x 6 columns]"
      ]
     },
     "execution_count": 13,
     "metadata": {},
     "output_type": "execute_result"
    }
   ],
   "source": [
    "from scipy.spatial.distance import cdist\n",
    "import numpy as np\n",
    "import seaborn as sns\n",
    "from matplotlib import pyplot as plt\n",
    "sns.set_theme(style=\"white\")\n",
    "sns.set_context(\"paper\", font_scale=1.5)\n",
    "plt.rcParams['font.family'] = 'Arial'\n",
    "\n",
    "\n",
    "def compute_distances(train, test):\n",
    "    classes = train['class'].unique()\n",
    "    distances = {cls: [] for cls in classes}\n",
    "\n",
    "    for _, test_row in tqdm(test.iterrows(), total=len(test), desc='Computing distances'):\n",
    "        cls = test_row['class']\n",
    "        test_feature = np.array([np.float64(i) for i in test_row.values[1:-1]]).reshape(1,-1)\n",
    "        train_feature = train.iloc[:, 1:-1]\n",
    "\n",
    "        distance = cdist(train_feature.values, test_feature, metric='euclidean').min()\n",
    "        distances[cls].append(distance)\n",
    "    \n",
    "    return distances\n",
    "\n",
    "train_val_data = pd.read_csv('data/6_class/train_val.csv').drop(columns=['old_class'])\n",
    "test_data = pd.read_csv('data/6_class/test.csv').drop(columns=['old_class'])\n",
    "distances = compute_distances(train_val_data, test_data)\n",
    "distances_df = pd.DataFrame(distances)\n",
    "distances_df\n"
   ]
  },
  {
   "cell_type": "code",
   "execution_count": 14,
   "metadata": {},
   "outputs": [
    {
     "data": {
      "image/png": "[encoded data removed]",
      "text/plain": [
       "<Figure size 640x480 with 1 Axes>"
      ]
     },
     "metadata": {},
     "output_type": "display_data"
    }
   ],
   "source": [
    "class_list = [\n",
    "    'zero',\n",
    "    'mm_1',\n",
    "    'mm_1_out',\n",
    "    'first',\n",
    "    'mm_2',\n",
    "    'second',\n",
    "]\n",
    "\n",
    "sns.boxplot(data=distances_df, order=class_list)\n",
    "plt.title('Euclidean distance of each test sample to the closest match in training set')\n",
    "plt.ylabel('Euclidean Distance')\n",
    "plt.xlabel('Class')\n",
    "tick_marks = np.arange(len(class_list))\n",
    "class_list = [\n",
    "    'zero',\n",
    "    'mm_1',\n",
    "    'mm_1\\'',\n",
    "    'first',\n",
    "    'mm_2',\n",
    "    'second',\n",
    "]\n",
    "plt.xticks(tick_marks, class_list)\n",
    "plt.show()"
   ]
  }
 ],
 "metadata": {
  "kernelspec": {
   "display_name": "cosork",
   "language": "python",
   "name": "python3"
  },
  "language_info": {
   "codemirror_mode": {
    "name": "ipython",
    "version": 3
   },
   "file_extension": ".py",
   "mimetype": "text/x-python",
   "name": "python",
   "nbconvert_exporter": "python",
   "pygments_lexer": "ipython3",
   "version": "3.10.13"
  }
 },
 "nbformat": 4,
 "nbformat_minor": 2
}
